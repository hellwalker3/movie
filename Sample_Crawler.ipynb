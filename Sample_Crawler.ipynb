{
 "cells": [
  {
   "cell_type": "code",
   "execution_count": 1,
   "metadata": {},
   "outputs": [],
   "source": [
    "from src.crawler.base_crawler import BaseCrawler\n",
    "from bs4 import BeautifulSoup\n",
    "import pandas as pd\n",
    "from pprint import pprint\n",
    "import re"
   ]
  },
  {
   "cell_type": "markdown",
   "metadata": {},
   "source": [
    "# requests\n",
    "\n",
    "基本的にはURLから情報取得の為には「requests」と言うライブラリーを主に使います。\n",
    "\n",
    "ライブラリーの詳細の情報は[公式ホームページ](https://requests.readthedocs.io/en/master/)で確認してください。\n",
    "\n",
    "## リスポンス確認\n",
    "\n",
    "URLから取得したリスポンスは下記のようです。"
   ]
  },
  {
   "cell_type": "code",
   "execution_count": 2,
   "metadata": {},
   "outputs": [
    {
     "name": "stdout",
     "output_type": "stream",
     "text": [
      "<class 'requests.models.Response'>\n"
     ]
    }
   ],
   "source": [
    "class TestCrawler(BaseCrawler):\n",
    "      def run(self):\n",
    "            test_url = 'https://www.imdb.com/chart/moviemeter/?ref_=nv_mv_mpm'\n",
    "            res = self.get_response(test_url)\n",
    "            print(type(res))\n",
    "\n",
    "test = TestCrawler()\n",
    "test.run()"
   ]
  },
  {
   "cell_type": "markdown",
   "metadata": {},
   "source": [
    "## Encoding確認\n",
    "たまにEncodingの問題で文字化けする場合がありますので、下記のようにEncodingの情報を確認することが出来ます。"
   ]
  },
  {
   "cell_type": "code",
   "execution_count": 3,
   "metadata": {},
   "outputs": [
    {
     "name": "stdout",
     "output_type": "stream",
     "text": [
      "UTF-8\n"
     ]
    }
   ],
   "source": [
    "class TestCrawler(BaseCrawler):\n",
    "      def run(self):\n",
    "            test_url = 'https://www.imdb.com/chart/moviemeter/?ref_=nv_mv_mpm'\n",
    "            res = self.get_response(test_url)\n",
    "            print(res.encoding)\n",
    "\n",
    "test = TestCrawler()\n",
    "test.run()"
   ]
  },
  {
   "cell_type": "markdown",
   "metadata": {},
   "source": [
    "## コンテンツの確認1\n",
    "コンテンツの確認は下記のように可能です。"
   ]
  },
  {
   "cell_type": "code",
   "execution_count": 4,
   "metadata": {},
   "outputs": [],
   "source": [
    "class TestCrawler(BaseCrawler):\n",
    "      def run(self):\n",
    "        test_url = 'https://www.imdb.com/chart/moviemeter/?ref_=nv_mv_mpm'\n",
    "        res = self.get_response(test_url)\n",
    "        pprint(res.content)\n",
    "\n",
    "test = TestCrawler()\n",
    "test.run()"
   ]
  },
  {
   "cell_type": "markdown",
   "metadata": {},
   "source": [
    "## コンテンツの確認２\n",
    "\n",
    "コンテンツをテキストとしても確認出来ます。"
   ]
  },
  {
   "cell_type": "code",
   "execution_count": 5,
   "metadata": {},
   "outputs": [],
   "source": [
    "class TestCrawler(BaseCrawler):\n",
    "      def run(self):\n",
    "        test_url = 'https://www.imdb.com/chart/moviemeter/?ref_=nv_mv_mpm'\n",
    "        res = self.get_response(test_url)\n",
    "        pprint(res.text)\n",
    "\n",
    "test = TestCrawler()\n",
    "test.run()"
   ]
  },
  {
   "cell_type": "markdown",
   "metadata": {},
   "source": [
    "# BeatifulSoup\n",
    "\n",
    "取得したリスポンスをパーシング、分析する際によく使われているのが「BeatifulSoup」と言うライブラリーです。\n",
    "\n",
    "詳細の情報は[公式ホームページ](https://www.crummy.com/software/BeautifulSoup/bs4/doc/)で確認ください。"
   ]
  },
  {
   "cell_type": "code",
   "execution_count": 6,
   "metadata": {},
   "outputs": [],
   "source": [
    "class TestCrawler(BaseCrawler):\n",
    "      def run(self):\n",
    "        test_url = 'https://www.imdb.com/chart/moviemeter/?ref_=nv_mv_mpm'\n",
    "        res = self.get_response(test_url)\n",
    "        soup = BeautifulSoup(markup=res.content, features='html.parser')\n",
    "        pprint(soup)\n",
    "\n",
    "test = TestCrawler()\n",
    "test.run()"
   ]
  },
  {
   "cell_type": "markdown",
   "metadata": {},
   "source": [
    "## HTMLパーシング\n",
    "\n",
    "Beautifulsoupは下記のようにHTML Elementを基準としてパーシングすることが出来ます。"
   ]
  },
  {
   "cell_type": "code",
   "execution_count": 7,
   "metadata": {},
   "outputs": [],
   "source": [
    "class TestCrawler(BaseCrawler):\n",
    "      def run(self):\n",
    "        test_url = 'https://www.imdb.com/chart/moviemeter/?ref_=nv_mv_mpm'\n",
    "        res = self.get_response(test_url)\n",
    "        soup = BeautifulSoup(markup=res.content, features='html.parser')\n",
    "#         pprint(soup.find('table', {'class' : 'chart'}).find_all('tr'))\n",
    "\n",
    "test = TestCrawler()\n",
    "test.run()"
   ]
  },
  {
   "cell_type": "markdown",
   "metadata": {},
   "source": [
    "# 応用編1\n",
    "\n",
    "この二つのライブラリーを応用して下記の見たいにデータを取り出すことが出来ます。\n",
    "\n",
    "リスポンスの構造の把握には、各ブラウザーのインスペクターを利用することをお勧めします。"
   ]
  },
  {
   "cell_type": "code",
   "execution_count": 8,
   "metadata": {},
   "outputs": [
    {
     "data": {
      "text/html": [
       "<div>\n",
       "<style scoped>\n",
       "    .dataframe tbody tr th:only-of-type {\n",
       "        vertical-align: middle;\n",
       "    }\n",
       "\n",
       "    .dataframe tbody tr th {\n",
       "        vertical-align: top;\n",
       "    }\n",
       "\n",
       "    .dataframe thead th {\n",
       "        text-align: right;\n",
       "    }\n",
       "</style>\n",
       "<table border=\"1\" class=\"dataframe\">\n",
       "  <thead>\n",
       "    <tr style=\"text-align: right;\">\n",
       "      <th></th>\n",
       "      <th>title</th>\n",
       "      <th>year</th>\n",
       "      <th>rank</th>\n",
       "      <th>rank_change</th>\n",
       "      <th>rating</th>\n",
       "    </tr>\n",
       "  </thead>\n",
       "  <tbody>\n",
       "    <tr>\n",
       "      <th>0</th>\n",
       "      <td>Enola Holmes</td>\n",
       "      <td>2020</td>\n",
       "      <td>1</td>\n",
       "      <td>0</td>\n",
       "      <td>6.7</td>\n",
       "    </tr>\n",
       "    <tr>\n",
       "      <th>1</th>\n",
       "      <td>The Devil All the Time</td>\n",
       "      <td>2020</td>\n",
       "      <td>2</td>\n",
       "      <td>0</td>\n",
       "      <td>7.1</td>\n",
       "    </tr>\n",
       "    <tr>\n",
       "      <th>2</th>\n",
       "      <td>Tenet</td>\n",
       "      <td>2020</td>\n",
       "      <td>3</td>\n",
       "      <td>0</td>\n",
       "      <td>7.8</td>\n",
       "    </tr>\n",
       "    <tr>\n",
       "      <th>3</th>\n",
       "      <td>Borat Subsequent Moviefilm: Delivery of Prodig...</td>\n",
       "      <td>2020</td>\n",
       "      <td>4</td>\n",
       "      <td>1602708</td>\n",
       "      <td>NaN</td>\n",
       "    </tr>\n",
       "    <tr>\n",
       "      <th>4</th>\n",
       "      <td>The Witches</td>\n",
       "      <td>2020</td>\n",
       "      <td>5</td>\n",
       "      <td>1169</td>\n",
       "      <td>NaN</td>\n",
       "    </tr>\n",
       "    <tr>\n",
       "      <th>...</th>\n",
       "      <td>...</td>\n",
       "      <td>...</td>\n",
       "      <td>...</td>\n",
       "      <td>...</td>\n",
       "      <td>...</td>\n",
       "    </tr>\n",
       "    <tr>\n",
       "      <th>95</th>\n",
       "      <td>Mighty Thor: Battle Royale</td>\n",
       "      <td>2017</td>\n",
       "      <td>96</td>\n",
       "      <td>22</td>\n",
       "      <td>7.9</td>\n",
       "    </tr>\n",
       "    <tr>\n",
       "      <th>96</th>\n",
       "      <td>Motherless Brooklyn</td>\n",
       "      <td>2019</td>\n",
       "      <td>97</td>\n",
       "      <td>365</td>\n",
       "      <td>6.8</td>\n",
       "    </tr>\n",
       "    <tr>\n",
       "      <th>97</th>\n",
       "      <td>It</td>\n",
       "      <td>2017</td>\n",
       "      <td>98</td>\n",
       "      <td>35</td>\n",
       "      <td>7.3</td>\n",
       "    </tr>\n",
       "    <tr>\n",
       "      <th>98</th>\n",
       "      <td>Bombshell</td>\n",
       "      <td>2019</td>\n",
       "      <td>99</td>\n",
       "      <td>-30</td>\n",
       "      <td>6.8</td>\n",
       "    </tr>\n",
       "    <tr>\n",
       "      <th>99</th>\n",
       "      <td>Lost Girls and Love Hotels</td>\n",
       "      <td>2020</td>\n",
       "      <td>100</td>\n",
       "      <td>-84</td>\n",
       "      <td>4.4</td>\n",
       "    </tr>\n",
       "  </tbody>\n",
       "</table>\n",
       "<p>100 rows × 5 columns</p>\n",
       "</div>"
      ],
      "text/plain": [
       "                                                title  year  rank  \\\n",
       "0                                        Enola Holmes  2020     1   \n",
       "1                              The Devil All the Time  2020     2   \n",
       "2                                               Tenet  2020     3   \n",
       "3   Borat Subsequent Moviefilm: Delivery of Prodig...  2020     4   \n",
       "4                                         The Witches  2020     5   \n",
       "..                                                ...   ...   ...   \n",
       "95                         Mighty Thor: Battle Royale  2017    96   \n",
       "96                                Motherless Brooklyn  2019    97   \n",
       "97                                                 It  2017    98   \n",
       "98                                          Bombshell  2019    99   \n",
       "99                         Lost Girls and Love Hotels  2020   100   \n",
       "\n",
       "    rank_change  rating  \n",
       "0             0     6.7  \n",
       "1             0     7.1  \n",
       "2             0     7.8  \n",
       "3       1602708     NaN  \n",
       "4          1169     NaN  \n",
       "..          ...     ...  \n",
       "95           22     7.9  \n",
       "96          365     6.8  \n",
       "97           35     7.3  \n",
       "98          -30     6.8  \n",
       "99          -84     4.4  \n",
       "\n",
       "[100 rows x 5 columns]"
      ]
     },
     "execution_count": 8,
     "metadata": {},
     "output_type": "execute_result"
    }
   ],
   "source": [
    "class TestCrawler(BaseCrawler):\n",
    "      def run(self):\n",
    "        test_url = 'https://www.imdb.com/chart/moviemeter/?ref_=nv_mv_mpm'\n",
    "        res = self.get_response(test_url)\n",
    "        soup = BeautifulSoup(markup=res.content, features='html.parser')\n",
    "        data = []\n",
    "        velocity_pattern = re.compile(r'(\\d+)[\\s\\n]*(\\(no\\schange\\))?')\n",
    "        number_pattern = re.compile(r'([\\d\\,]+)')\n",
    "        for tr in soup.find('table').find_all('tr'):\n",
    "            info = {}\n",
    "            title_column = tr.find('td', {'class' : 'titleColumn'})\n",
    "            if title_column is None:\n",
    "                continue\n",
    "            info['title'] = title_column.find('a').getText()\n",
    "            info['year'] = int(number_pattern.search(title_column.find('span').getText()).group(1))\n",
    "            velocity_div = title_column.find('div', {'class' : 'velocity'})\n",
    "            re_res = velocity_pattern.match(velocity_div.getText())\n",
    "            info['rank'] = int(re_res.group(1))\n",
    "            info['rank_change'] = 0\n",
    "            if re_res.group(2) is None:\n",
    "                # rank changed\n",
    "                snd_info = velocity_div.find('span', {'class' : 'secondaryInfo'})\n",
    "                re_res = number_pattern.search(snd_info.getText())\n",
    "                info['rank_change']  = int(re_res.group(1).replace(',', ''))\n",
    "                info['rank_change'] *= 1 if snd_info.find('span', {'class' : 'up'}) else -1\n",
    "            info['rating'] = None\n",
    "            rating = tr.find('strong')\n",
    "            if rating:\n",
    "                info['rating'] = float(rating.getText())\n",
    "            data.append(info)\n",
    "        df = pd.DataFrame(data)\n",
    "        df.to_csv('tmp.csv', index=False)\n",
    "\n",
    "test = TestCrawler()\n",
    "test.run()\n",
    "\n",
    "df = pd.read_csv('tmp.csv')\n",
    "df"
   ]
  },
  {
   "cell_type": "code",
   "execution_count": null,
   "metadata": {},
   "outputs": [],
   "source": []
  }
 ],
 "metadata": {
  "kernelspec": {
   "display_name": "Python 3",
   "language": "python",
   "name": "python3"
  },
  "language_info": {
   "codemirror_mode": {
    "name": "ipython",
    "version": 3
   },
   "file_extension": ".py",
   "mimetype": "text/x-python",
   "name": "python",
   "nbconvert_exporter": "python",
   "pygments_lexer": "ipython3",
   "version": "3.8.5"
  }
 },
 "nbformat": 4,
 "nbformat_minor": 4
}
